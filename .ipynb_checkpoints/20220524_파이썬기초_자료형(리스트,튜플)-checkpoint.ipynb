{
 "cells": [
  {
   "cell_type": "markdown",
   "id": "a591962e",
   "metadata": {},
   "source": [
    "# 자료형\n",
    "\n",
    "여러 개의 아이템들을 저장하는 객체 = 여러 개의 값(데이터타입)을 저장하는 그릇\n",
    "\n",
    "## 1. 리스트(List)\n",
    "\n",
    "▶ 문법 기호 : [아이템1, 아이템2, 아이템3 .... ]\n",
    "\n",
    "\n",
    "▶ 용어 : 아이템 = 요소\n",
    "\n",
    "\n",
    "▶ 아이템으로 가질 수 있는 데이터 타입 : 문자, 숫자, 리스트, 딕셔너리 ...\n",
    "\n",
    "\n",
    "▶ 종류\n",
    "\n",
    "     * 아이템이 없는 리스트\n",
    "    \n",
    "     * 1차원 리스트\n",
    "    \n",
    "     * 다차원 리스트 \n",
    "    \n",
    "    \n",
    "▶ 특징\n",
    "\n",
    "     * 인덱스 활용\n",
    "    \n",
    "     * 다차원 리스트의 구조에 대한 이해"
   ]
  },
  {
   "cell_type": "markdown",
   "id": "a3b58e34",
   "metadata": {},
   "source": [
    "### 1. 생성하기"
   ]
  },
  {
   "cell_type": "code",
   "execution_count": 1,
   "id": "ed28bb8c",
   "metadata": {},
   "outputs": [
    {
     "name": "stdout",
     "output_type": "stream",
     "text": [
      "<class 'list'> <class 'list'>\n",
      "[] []\n"
     ]
    }
   ],
   "source": [
    "# 빈 리스트 생성하기 = 아이템이 없는 리스트\n",
    "# 문법기호 : []\n",
    "# 함수 : list()\n",
    "a = []\n",
    "a2 = list()\n",
    "print(type(a), type(a2))\n",
    "print(a, a2)"
   ]
  },
  {
   "cell_type": "code",
   "execution_count": 3,
   "id": "d6d93b78",
   "metadata": {},
   "outputs": [],
   "source": [
    "# 모든 데이터 타입을 아이템으로 가질 수 있다.\n",
    "a3 = ['a', 10, 1.1, [1, 23.1, 'a']]"
   ]
  },
  {
   "cell_type": "code",
   "execution_count": 6,
   "id": "26797153",
   "metadata": {},
   "outputs": [
    {
     "data": {
      "text/plain": [
       "23.1"
      ]
     },
     "execution_count": 6,
     "metadata": {},
     "output_type": "execute_result"
    }
   ],
   "source": [
    "# 2차원 배열이며, 인덱스를 2개를 써야 하나의 값을 타겟으로 잡을 수 있다.\n",
    "a3[3][1]"
   ]
  },
  {
   "cell_type": "code",
   "execution_count": 7,
   "id": "1e307096",
   "metadata": {},
   "outputs": [
    {
     "data": {
      "text/plain": [
       "[1, 2, 3, [1, 2, 3, [10, 20]]]"
      ]
     },
     "execution_count": 7,
     "metadata": {},
     "output_type": "execute_result"
    }
   ],
   "source": [
    "# 3차원 배열 예시\n",
    "[1, 2, 3, [1, 2, 3, [10, 20]]]"
   ]
  },
  {
   "cell_type": "markdown",
   "id": "97255a1c",
   "metadata": {},
   "source": [
    "## 2. 인덱싱, 슬라이싱\n",
    "\n",
    "리스트를인덱스 번호로 접근하면 해당하는 위치의 값(아이템)을 가져온다.\n",
    "\n",
    "※ 복습\n",
    "\n",
    "    - 첫번째 인덱스 번호는 ? = 0번 인덱스 = 첫번째 아이템\n",
    "    \n",
    "    - 마지막 인덱스 번호는 ? = -1번 인덱스 = 마지막 아이템"
   ]
  },
  {
   "cell_type": "markdown",
   "id": "86512f6f",
   "metadata": {},
   "source": [
    "### 인덱싱(Indexing)\n",
    "\n",
    "※ 정의 복습 : 특정 위치에 있는 하나의 아이템에 접근한다. = 하나의 값을 가져온다"
   ]
  },
  {
   "cell_type": "code",
   "execution_count": 9,
   "id": "2c711834",
   "metadata": {},
   "outputs": [],
   "source": [
    "# 리스트 생성하기\n",
    "a = [1, 2, 3, 4, 5, 6, 7, 8, 9]"
   ]
  },
  {
   "cell_type": "code",
   "execution_count": 10,
   "id": "c56144e9",
   "metadata": {},
   "outputs": [
    {
     "data": {
      "text/plain": [
       "1"
      ]
     },
     "execution_count": 10,
     "metadata": {},
     "output_type": "execute_result"
    }
   ],
   "source": [
    "# 첫번째 아이템 인덱스 번호 ; 0\n",
    "# 인덱싱 문법 : 객체[인덱스번호]\n",
    "a[0]"
   ]
  },
  {
   "cell_type": "code",
   "execution_count": 13,
   "id": "9bf01cca",
   "metadata": {},
   "outputs": [
    {
     "data": {
      "text/plain": [
       "6"
      ]
     },
     "execution_count": 13,
     "metadata": {},
     "output_type": "execute_result"
    }
   ],
   "source": [
    "# 리스트에서 6이라는 아이템 가져오기\n",
    "a[5]"
   ]
  },
  {
   "cell_type": "code",
   "execution_count": 15,
   "id": "2aa0ba07",
   "metadata": {},
   "outputs": [
    {
     "data": {
      "text/plain": [
       "9"
      ]
     },
     "execution_count": 15,
     "metadata": {},
     "output_type": "execute_result"
    }
   ],
   "source": [
    "# 리스트의 마지막 값 확인하기\n",
    "a[-1]"
   ]
  },
  {
   "cell_type": "code",
   "execution_count": 16,
   "id": "ac2aaba0",
   "metadata": {},
   "outputs": [
    {
     "data": {
      "text/plain": [
       "9"
      ]
     },
     "execution_count": 16,
     "metadata": {},
     "output_type": "execute_result"
    }
   ],
   "source": [
    "# len() 으로도 길이 확인 가능\n",
    "len(a)"
   ]
  },
  {
   "cell_type": "markdown",
   "id": "a2622e33",
   "metadata": {},
   "source": [
    "### 슬라이싱(Slicing)\n",
    "\n",
    "- 정의 복습 : 연속된 범위에 있는 하나 또는 하나 이상의 여러개 아이템에 접근한다.\n",
    "- 문법 기호 : 대상객체(문자열, 리스트)[시작번호:끝번호:간격] => 끝번호는 아이템에 포함되지 않는다."
   ]
  },
  {
   "cell_type": "code",
   "execution_count": 17,
   "id": "9b7e1d2c",
   "metadata": {},
   "outputs": [
    {
     "data": {
      "text/plain": [
       "[1, 2, 3, 4, 5, 6, 7, 8, 9]"
      ]
     },
     "execution_count": 17,
     "metadata": {},
     "output_type": "execute_result"
    }
   ],
   "source": [
    "a"
   ]
  },
  {
   "cell_type": "code",
   "execution_count": 18,
   "id": "a84e55de",
   "metadata": {},
   "outputs": [
    {
     "data": {
      "text/plain": [
       "[1, 2, 3]"
      ]
     },
     "execution_count": 18,
     "metadata": {},
     "output_type": "execute_result"
    }
   ],
   "source": [
    "# 리스트의 0 ~ 2번째 아이템까지 확인하기\n",
    "# 시작번호 : 0\n",
    "# 끝번호 : 2 -> 3\n",
    "a[0:3]"
   ]
  },
  {
   "cell_type": "code",
   "execution_count": 19,
   "id": "db790d3a",
   "metadata": {},
   "outputs": [
    {
     "data": {
      "text/plain": [
       "[4, 5, 6, 7, 8, 9]"
      ]
     },
     "execution_count": 19,
     "metadata": {},
     "output_type": "execute_result"
    }
   ],
   "source": [
    "# 리스트의 3번째 아이템부터 마지막 아이템까지 확인하기\n",
    "# 시작번호 : 3\n",
    "# 끝번호 : 생략\n",
    "a[3:]"
   ]
  },
  {
   "cell_type": "markdown",
   "id": "0266181e",
   "metadata": {},
   "source": [
    "### << 연습문제 >>\n",
    "\n",
    "다음의 4차원 리스트에서 아래 조건에 맞는 값을 출력해주세요.\n",
    "\n",
    "         a = [1,2,3, ['a', [100, 200, ['강남', '서울'], 300,], 'b', 'c']]\n",
    "         \n",
    "         출력 결과 = 강남 & 300 & c"
   ]
  },
  {
   "cell_type": "code",
   "execution_count": 21,
   "id": "872fa6f9",
   "metadata": {},
   "outputs": [],
   "source": [
    "a = [1, 2, 3, ['a', [100, 200, ['강남', '서울'], 300,], 'b', 'c']]"
   ]
  },
  {
   "cell_type": "code",
   "execution_count": 37,
   "id": "c4f24ade",
   "metadata": {},
   "outputs": [
    {
     "name": "stdout",
     "output_type": "stream",
     "text": [
      "출력결과 = 강남 & 300 & c\n"
     ]
    }
   ],
   "source": [
    "value1 = a[3][1][2][0]\n",
    "value2 = a[3][1][-1]\n",
    "value3 = a[3][3]\n",
    "\n",
    "print(\"출력결과 = %s & %s & %s\" % (value1, value2, value3))"
   ]
  },
  {
   "cell_type": "markdown",
   "id": "48d6afd9",
   "metadata": {},
   "source": [
    "### 3. 아이템 추가하기 : 연산자와 함수를 이용한 리스트 아이템 추가\n",
    "\n",
    "1) 산술 연산자 : +, *\n",
    "\n",
    "2) 리스트의 함수(메서드) : 리스트.append(), 리스트.extend(), 리스트.insert()"
   ]
  },
  {
   "cell_type": "markdown",
   "id": "218167fe",
   "metadata": {},
   "source": [
    "### 3-1) 산술연산자\n",
    "\n",
    "* 종류 : +, *\n",
    "\n",
    "* 특징 : 원본에 반영되지 않는다."
   ]
  },
  {
   "cell_type": "code",
   "execution_count": 38,
   "id": "d8a17c84",
   "metadata": {},
   "outputs": [],
   "source": [
    "# 리스트끼리 연결 : +\n",
    "a = [1, 2, 3]\n",
    "b = [4, 5, 6]"
   ]
  },
  {
   "cell_type": "code",
   "execution_count": 39,
   "id": "837dc202",
   "metadata": {},
   "outputs": [
    {
     "data": {
      "text/plain": [
       "[1, 2, 3, 4, 5, 6]"
      ]
     },
     "execution_count": 39,
     "metadata": {},
     "output_type": "execute_result"
    }
   ],
   "source": [
    "a + b"
   ]
  },
  {
   "cell_type": "code",
   "execution_count": 40,
   "id": "75b72433",
   "metadata": {},
   "outputs": [
    {
     "name": "stdout",
     "output_type": "stream",
     "text": [
      "[1, 2, 3] [4, 5, 6]\n"
     ]
    }
   ],
   "source": [
    "print(a, b)"
   ]
  },
  {
   "cell_type": "code",
   "execution_count": 41,
   "id": "c83446e9",
   "metadata": {},
   "outputs": [
    {
     "data": {
      "text/plain": [
       "[4, 5, 6, 4, 5, 6, 4, 5, 6]"
      ]
     },
     "execution_count": 41,
     "metadata": {},
     "output_type": "execute_result"
    }
   ],
   "source": [
    "# 리스트 대상 곱하기 : *\n",
    "b * 3 # b * b * b"
   ]
  },
  {
   "cell_type": "markdown",
   "id": "80ee8de1",
   "metadata": {},
   "source": [
    "### 4. 리스트 타입의 함수 (method)\n",
    "* 종류\n",
    "\n",
    "    - 리스트.append(추가할 아이템) : 인자값을 통채로 리스트의 마지막 아이템으로 추가, 인자값은 1개만 받음 = 1개의 아이템만 추가 가능\n",
    "\n",
    "    - 리스트.extend(추가할 아이템) : 인자값의 아이템을 뽑아서 리스트의 마지막 아이템으로 추가, 인자값은 1개만 받음, 단 여러 개의 아이템 추가 가능\n",
    "    \n",
    "    - 리스트.insert(인덱스번호, 추가할 아이템) : 위치를 지정해서 아이템을 삽입할 수 있음, 통채로 아이템을 추가\n",
    "    \n",
    "    - 특징 : 원본에 바로 적용이 됨\n",
    "    \n",
    "    \n",
    "* 참고 연산자 : in 연산자 (결과값은 bool type)"
   ]
  },
  {
   "cell_type": "code",
   "execution_count": 42,
   "id": "b336ac93",
   "metadata": {},
   "outputs": [
    {
     "data": {
      "text/plain": [
       "[1, 2, 3]"
      ]
     },
     "execution_count": 42,
     "metadata": {},
     "output_type": "execute_result"
    }
   ],
   "source": [
    "# 리스트 생성하기\n",
    "a = [1, 2, 3]\n",
    "a"
   ]
  },
  {
   "cell_type": "code",
   "execution_count": 43,
   "id": "e6fe9b16",
   "metadata": {},
   "outputs": [
    {
     "data": {
      "text/plain": [
       "[1, 2, 3, 4]"
      ]
     },
     "execution_count": 43,
     "metadata": {},
     "output_type": "execute_result"
    }
   ],
   "source": [
    "# append()\n",
    "# 문법 : 리스트.append(추가할 아이템)\n",
    "a.append(4)\n",
    "a"
   ]
  },
  {
   "cell_type": "code",
   "execution_count": 44,
   "id": "5e2c47e0",
   "metadata": {},
   "outputs": [
    {
     "data": {
      "text/plain": [
       "[1, 2, 3, 4, [5, 6]]"
      ]
     },
     "execution_count": 44,
     "metadata": {},
     "output_type": "execute_result"
    }
   ],
   "source": [
    "# 추가할 자료로 [5, 6]을 제공한다면\n",
    "a.append([5, 6])\n",
    "a"
   ]
  },
  {
   "cell_type": "code",
   "execution_count": 45,
   "id": "f192d328",
   "metadata": {},
   "outputs": [
    {
     "data": {
      "text/plain": [
       "[5, 6]"
      ]
     },
     "execution_count": 45,
     "metadata": {},
     "output_type": "execute_result"
    }
   ],
   "source": [
    "a[4]"
   ]
  },
  {
   "cell_type": "code",
   "execution_count": 46,
   "id": "36a2d836",
   "metadata": {},
   "outputs": [
    {
     "data": {
      "text/plain": [
       "[1, 2, 3, 4, [5, 6], 7, 8, 9]"
      ]
     },
     "execution_count": 46,
     "metadata": {},
     "output_type": "execute_result"
    }
   ],
   "source": [
    "# extend()\n",
    "# 문법 : 대상리스트.extend(리스트)\n",
    "# append()와의 차이점 : 인자값으로 리스트만 받을 수 있다.\n",
    "# 리스트 길이만큼 인덱스가 연장된다(append는 무조건 1만큼 연장됨)\n",
    "a.extend([7, 8, 9])\n",
    "a"
   ]
  },
  {
   "cell_type": "code",
   "execution_count": 47,
   "id": "f1fb1c02",
   "metadata": {},
   "outputs": [
    {
     "data": {
      "text/plain": [
       "[1, 2, 3, 4, [5, 6], 7, 8, 9, 10]"
      ]
     },
     "execution_count": 47,
     "metadata": {},
     "output_type": "execute_result"
    }
   ],
   "source": [
    "a.extend([10])\n",
    "a"
   ]
  },
  {
   "cell_type": "code",
   "execution_count": 48,
   "id": "5e0e5b84",
   "metadata": {},
   "outputs": [
    {
     "data": {
      "text/plain": [
       "[1, 2, 3, 4, [5, 6], 7, 8, 9, 10]"
      ]
     },
     "execution_count": 48,
     "metadata": {},
     "output_type": "execute_result"
    }
   ],
   "source": [
    "a"
   ]
  },
  {
   "cell_type": "code",
   "execution_count": 51,
   "id": "40f66829",
   "metadata": {},
   "outputs": [
    {
     "data": {
      "text/plain": [
       "[100, 100, 1, 2, 3, 4, [5, 6], 7, 8, 9, 10]"
      ]
     },
     "execution_count": 51,
     "metadata": {},
     "output_type": "execute_result"
    }
   ],
   "source": [
    "# insert()\n",
    "# 문법 : 대상리스트.insert(인덱스번호, 추가할아이템)\n",
    "# 다른 함수와의 차이점 : 아이템 추가가 마지막 인덱스가 아닌 지정한 인덱스를 기준으로\n",
    "# append와의 유사점 : 하나의 인덱스에 다 때려박음\n",
    "a.insert(0, 100)\n",
    "a"
   ]
  },
  {
   "cell_type": "code",
   "execution_count": 52,
   "id": "ce188d90",
   "metadata": {},
   "outputs": [
    {
     "data": {
      "text/plain": [
       "[[99, 98], 100, 100, 1, 2, 3, 4, [5, 6], 7, 8, 9, 10]"
      ]
     },
     "execution_count": 52,
     "metadata": {},
     "output_type": "execute_result"
    }
   ],
   "source": [
    "a.insert(0, [99, 98])\n",
    "a"
   ]
  },
  {
   "cell_type": "code",
   "execution_count": 56,
   "id": "28d7d63f",
   "metadata": {},
   "outputs": [
    {
     "data": {
      "text/plain": [
       "True"
      ]
     },
     "execution_count": 56,
     "metadata": {},
     "output_type": "execute_result"
    }
   ],
   "source": [
    "# in 키워드는 특정 요소가 리스트 내에 있는지 없는지 여부를 물어봅니다.\n",
    "# 값 in 리스트\n",
    "# 값 100이 a 리스트 내에 존재하나요? => 100 in a\n",
    "99 in a[0]"
   ]
  },
  {
   "cell_type": "code",
   "execution_count": 55,
   "id": "633f744f",
   "metadata": {},
   "outputs": [
    {
     "data": {
      "text/plain": [
       "[99, 98]"
      ]
     },
     "execution_count": 55,
     "metadata": {},
     "output_type": "execute_result"
    }
   ],
   "source": [
    "a[0]"
   ]
  },
  {
   "cell_type": "code",
   "execution_count": 57,
   "id": "dff7e7d9",
   "metadata": {},
   "outputs": [
    {
     "data": {
      "text/plain": [
       "False"
      ]
     },
     "execution_count": 57,
     "metadata": {},
     "output_type": "execute_result"
    }
   ],
   "source": [
    "# not in 키워드는 특정 요소가 리스트 내부에 없는지를 물어봅니다.\n",
    "# 값 not in 리스트\n",
    "# 50이 a리스트에 없습니까? => 50 not in a\n",
    "10 not in a"
   ]
  },
  {
   "cell_type": "markdown",
   "id": "83b08f7b",
   "metadata": {},
   "source": [
    "### <<연습문제>>\n",
    "\n",
    "아래의 순서에 맞추어 직접 실행해보세요.\n",
    "\n",
    "1) 빈 리스트 생성\n",
    "\n",
    "2) 1번 리스트에 숫자 1, 2, 3 을 아이템으로 추가\n",
    "\n",
    "3) 2번 리스트의 3번째 위치에 문자 100을 아이템으로 추가\n",
    "\n",
    "4) 3번 리스트의 마지막에 문자 A, B를 아이템으로 가진 리스트를 아이템으로 추가\n",
    "\n",
    "5) 4번 리스트의 아이템을 2번 반복해서 가지는 리스트를 출력"
   ]
  },
  {
   "cell_type": "code",
   "execution_count": 73,
   "id": "728c10a9",
   "metadata": {},
   "outputs": [
    {
     "data": {
      "text/plain": [
       "[1, 2, 100, 3, ['A', 'B'], 1, 2, 100, 3, ['A', 'B']]"
      ]
     },
     "execution_count": 73,
     "metadata": {},
     "output_type": "execute_result"
    }
   ],
   "source": [
    "a = []\n",
    "a.extend([1,2,3])\n",
    "a.insert(2, 100)\n",
    "a.append(['A', 'B'])\n",
    "a * 2"
   ]
  },
  {
   "cell_type": "markdown",
   "id": "e31e4181",
   "metadata": {},
   "source": [
    "### 5. 아이템 수정하기\n",
    "\n",
    "- 인덱싱, 슬라이싱을 이용해서 아이템을 수정할 수 있다."
   ]
  },
  {
   "cell_type": "code",
   "execution_count": 1,
   "id": "015674f6",
   "metadata": {},
   "outputs": [],
   "source": [
    "# 리스트 생성하기\n",
    "a = [1, 2, 3, 4]"
   ]
  },
  {
   "cell_type": "code",
   "execution_count": 2,
   "id": "322f7672",
   "metadata": {},
   "outputs": [
    {
     "data": {
      "text/plain": [
       "[[10, 20], 2, 3, 4]"
      ]
     },
     "execution_count": 2,
     "metadata": {},
     "output_type": "execute_result"
    }
   ],
   "source": [
    "# 하나의 아이템 수정하기\n",
    "# 0번 인덱스에 있는 값을 [10, 20] 으로 수정하기\n",
    "# 결과 : [[10, 20], 2, 3, 4]\n",
    "a[0] = [10, 20]\n",
    "a"
   ]
  },
  {
   "cell_type": "code",
   "execution_count": 4,
   "id": "5047f4d4",
   "metadata": {},
   "outputs": [
    {
     "data": {
      "text/plain": [
       "[10, 20, 2, 3, 4]"
      ]
     },
     "execution_count": 4,
     "metadata": {},
     "output_type": "execute_result"
    }
   ],
   "source": [
    "# 연속된 범위의 여러 아이템 수정하기\n",
    "# 0번 인덱스만 선택 => 슬라이싱으로 선택\n",
    "a2 = [1, 2, 3, 4]\n",
    "a2[0:1] = [10, 20] # 0번째 부터 0(1-1)번째 까지\n",
    "a2"
   ]
  },
  {
   "cell_type": "code",
   "execution_count": 6,
   "id": "a8869ffc",
   "metadata": {},
   "outputs": [],
   "source": [
    "# 슬라이싱으로 값을 할당할 때의 주의점 : 전달하는 값은 1개여도 리스트로\n",
    "a2[0:1] = [100]"
   ]
  },
  {
   "cell_type": "code",
   "execution_count": 8,
   "id": "0f69264a",
   "metadata": {},
   "outputs": [
    {
     "data": {
      "text/plain": [
       "[100, 20, 2, 3, 4]"
      ]
     },
     "execution_count": 8,
     "metadata": {},
     "output_type": "execute_result"
    }
   ],
   "source": [
    "a2"
   ]
  },
  {
   "cell_type": "markdown",
   "id": "16f2b1d6",
   "metadata": {},
   "source": [
    "### <<연습문제>>\n",
    "\n",
    "아래 조건에 맞추어 리스트를 수정하세요\n",
    "    \n",
    "    [ 10, 99, 3, '사과', 73, '바나나' ]\n",
    "    \n",
    "조건 1) '사과'를 'apple'로 수정\n",
    "\n",
    "조건 2) 99, 3을 9, 33으로 수정(슬라이싱으로 교체하세요)\n",
    "\n",
    "조건 3) 73을 [73, 74] 로 수정"
   ]
  },
  {
   "cell_type": "code",
   "execution_count": 9,
   "id": "955812f5",
   "metadata": {},
   "outputs": [],
   "source": [
    "a = [10, 99, 3, '사과', 73, '바나나']"
   ]
  },
  {
   "cell_type": "code",
   "execution_count": 12,
   "id": "9aa86021",
   "metadata": {},
   "outputs": [
    {
     "data": {
      "text/plain": [
       "[10, 99, 3, 'apple', 73, '바나나']"
      ]
     },
     "execution_count": 12,
     "metadata": {},
     "output_type": "execute_result"
    }
   ],
   "source": [
    "# 조건 1) '사과'를 'apple'로 수정\n",
    "a[3] = 'apple'\n",
    "a"
   ]
  },
  {
   "cell_type": "code",
   "execution_count": 20,
   "id": "8b0a09ec",
   "metadata": {},
   "outputs": [
    {
     "data": {
      "text/plain": [
       "[10, 9, 33, 99, 3, 'apple', 73, '바나나']"
      ]
     },
     "execution_count": 20,
     "metadata": {},
     "output_type": "execute_result"
    }
   ],
   "source": [
    "# 조건 2) 99, 3을 9, 33으로 수정\n",
    "a[1:3] = [9,33]\n",
    "a"
   ]
  },
  {
   "cell_type": "code",
   "execution_count": null,
   "id": "e8d6ed3d",
   "metadata": {},
   "outputs": [],
   "source": []
  },
  {
   "cell_type": "code",
   "execution_count": null,
   "id": "1d641d5c",
   "metadata": {},
   "outputs": [],
   "source": []
  }
 ],
 "metadata": {
  "kernelspec": {
   "display_name": "Python 3 (ipykernel)",
   "language": "python",
   "name": "python3"
  },
  "language_info": {
   "codemirror_mode": {
    "name": "ipython",
    "version": 3
   },
   "file_extension": ".py",
   "mimetype": "text/x-python",
   "name": "python",
   "nbconvert_exporter": "python",
   "pygments_lexer": "ipython3",
   "version": "3.9.12"
  }
 },
 "nbformat": 4,
 "nbformat_minor": 5
}
